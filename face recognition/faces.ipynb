{
 "cells": [
  {
   "cell_type": "code",
   "execution_count": 7,
   "metadata": {},
   "outputs": [],
   "source": [
    "import numpy as np\n",
    "import cv2\n",
    "\n",
    "face_cascade=cv2.CascadeClassifier('haarcascades/haarcascade_frontalface_alt2.xml')\n",
    "\n",
    "\n",
    "\n"
   ]
  },
  {
   "cell_type": "code",
   "execution_count": 11,
   "metadata": {},
   "outputs": [
    {
     "name": "stdout",
     "output_type": "stream",
     "text": [
      "214 123 342 342\n",
      "218 126 342 342\n",
      "230 120 342 342\n",
      "233 122 342 342\n",
      "244 110 342 342\n",
      "232 84 342 342\n",
      "205 74 342 342\n",
      "182 66 342 342\n",
      "169 54 342 342\n",
      "158 51 342 342\n",
      "160 53 342 342\n",
      "154 51 342 342\n",
      "156 53 342 342\n",
      "160 55 342 342\n",
      "162 57 342 342\n",
      "157 70 342 342\n",
      "154 70 342 342\n",
      "154 68 342 342\n",
      "158 78 342 342\n",
      "160 83 342 342\n",
      "167 114 342 342\n",
      "171 128 342 342\n",
      "149 127 342 342\n",
      "135 105 342 342\n",
      "134 104 342 342\n",
      "130 107 342 342\n",
      "131 104 342 342\n",
      "134 104 342 342\n",
      "131 104 342 342\n",
      "133 101 342 342\n",
      "139 95 342 342\n",
      "137 94 342 342\n",
      "142 95 342 342\n",
      "137 94 342 342\n",
      "137 94 342 342\n",
      "137 98 342 342\n",
      "137 94 342 342\n"
     ]
    }
   ],
   "source": [
    "cap = cv2.VideoCapture(0)\n",
    "while(True):\n",
    "    # Capture frame-by-frame\n",
    "    ret, frame = cap.read()\n",
    "    \n",
    "    gray = cv2.cvtColor(frame,cv2.COLOR_BGR2GRAY)\n",
    "    \n",
    "    faces= face_cascade.detectMultiScale(gray,scaleFactor=1.5,minNeighbors=5)\n",
    "\n",
    "    for(x,y,w,h) in faces:\n",
    "        print(x,y,w,h)\n",
    "        roi_gray= gray[y:y+h,x:x+w]\n",
    "        roi_color= frame[y:y+h,x:x+w]\n",
    "        img_item=\"my-image.png\"\n",
    "        cv2.imwrite(img_item,roi_gray)\n",
    "\n",
    "       \n",
    "        color = (255,0,0)\n",
    "        \n",
    "        stroke = 2\n",
    "        end_cord_x = x + w\n",
    "        end_cord_y = y+h\n",
    "        \n",
    "        cv2.rectangle(frame,(x,y),(end_cord_x,end_cord_y),color,stroke)\n",
    "   \n",
    "    # Display the resulting frame\n",
    "    cv2.imshow('frame',frame)\n",
    "    if cv2.waitKey(20) & 0xFF == ord('q'):\n",
    "        break\n",
    "\n",
    "# When everything done, release the capture\n",
    "cap.release()\n",
    "cv2.destroyAllWindows()"
   ]
  },
  {
   "cell_type": "code",
   "execution_count": null,
   "metadata": {},
   "outputs": [],
   "source": []
  }
 ],
 "metadata": {
  "kernelspec": {
   "display_name": "Python 3",
   "language": "python",
   "name": "python3"
  },
  "language_info": {
   "codemirror_mode": {
    "name": "ipython",
    "version": 3
   },
   "file_extension": ".py",
   "mimetype": "text/x-python",
   "name": "python",
   "nbconvert_exporter": "python",
   "pygments_lexer": "ipython3",
   "version": "3.7.3"
  }
 },
 "nbformat": 4,
 "nbformat_minor": 2
}
